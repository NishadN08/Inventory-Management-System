{
 "cells": [
  {
   "cell_type": "code",
   "execution_count": 21,
   "metadata": {},
   "outputs": [],
   "source": [
    "#Import required libraries\n",
    "import time\n",
    "import json"
   ]
  },
  {
   "cell_type": "code",
   "execution_count": 22,
   "metadata": {},
   "outputs": [],
   "source": [
    "#Open the created record.json file\n",
    "fd = open(\"record.json\",\"r\")\n",
    "\n",
    "txt = fd.read() #Used for reading a file\n",
    "fd.close()"
   ]
  },
  {
   "cell_type": "code",
   "execution_count": 23,
   "metadata": {},
   "outputs": [],
   "source": [
    "#Loading the json file to perform Operations in python\n",
    "record = json.loads(txt)\n",
    "\n",
    "#Create a dict to store a dict\n",
    "sale={}"
   ]
  },
  {
   "cell_type": "markdown",
   "metadata": {},
   "source": [
    "Main code starts from here..."
   ]
  },
  {
   "cell_type": "code",
   "execution_count": 24,
   "metadata": {},
   "outputs": [
    {
     "name": "stdout",
     "output_type": "stream",
     "text": [
      "---------------Welcome to Shri Stores-------------\n",
      "\n",
      "^^^^^^If you want to buy something 'press 1'^^^^^^\n",
      "^^^^^^^^^^^If you want to exit 'press 0'^^^^^^^^^^\n",
      "1\n",
      "-------This is our Stock for today---------\n",
      "U-id       Name\n",
      "19001 ---- White Bread\n",
      "19002 ---- Brown Bread\n",
      "19003 ---- Biscuits\n",
      "19004 ---- Lays\n",
      "19005 ---- Kurkure\n",
      "19006 ---- Waffles\n",
      "19007 ---- Nachos\n",
      "19008 ---- Oats\n",
      "19009 ---- Shampoo\n",
      "19010 ---- Hair Oil\n",
      "19011 ---- Face Wash\n",
      "19012 ---- Tea Powder\n",
      "19013 ---- Grean Tea Powder\n",
      "19014 ---- Coffee Powder\n",
      "19015 ---- 5-Star\n",
      "19016 ---- Kit-Kat\n",
      "19017 ---- Dairy Milk\n",
      "19018 ---- Dairy Milk Silk\n",
      "19019 ---- Munch\n",
      "19020 ---- Oreo\n",
      "19021 ---- Coke\n",
      "19022 ---- Fanta\n",
      "19023 ---- Sprite\n",
      "19024 ---- Orange Juice\n",
      "19025 ---- Mango Juice\n",
      "19026 ---- Nimbu Paani\n",
      "19027 ---- Red Bull\n",
      "19028 ---- Nestle Cold Coffee\n",
      "19029 ---- Vanila Ice-cream\n",
      "19030 ---- Chocolate Ice-cream\n",
      "19031 ---- Pepsi\n",
      "Enter the U-id of your product\t19026\n",
      "\n",
      "***Here is the Product of your U-id 19026***\n",
      "name : Nimbu Paani\n",
      "price : 20\n",
      "man_date : 23/8/2021\n",
      "exp_date : 22/12/2021\n",
      "quantity : 20\n",
      "\n",
      "Enter how much quantity you want to buy\t5\n",
      "\n",
      "#*#*#*#*#*#*Generating your Bill*#*#*#*#*#*#\n",
      "Name of the Product : Nimbu Paani\n",
      "Price : 20\n",
      "Quantity required : 5\n",
      "Total Billing Amount : 100\n",
      "Date and Time of purchase : Mon Sep  6 20:39:09 2021\n",
      "#*#*#*#*#*#*#*#*#*#*#*#*#*#*#*#*#*#*#*#*#*#\n",
      "\n",
      "*******Thank you Please visit again********\n"
     ]
    }
   ],
   "source": [
    "#Asking values to the customer\n",
    "print(\"---------------Welcome to Shri Stores-------------\\n\")\n",
    "print(\"^^^^^^If you want to buy something 'press 1'^^^^^^\")\n",
    "print(\"^^^^^^^^^^^If you want to exit 'press 0'^^^^^^^^^^\")\n",
    "ans = int(input())\n",
    "#If user wants to buy something\n",
    "if ans == 1:\n",
    "    print(\"-------This is our Stock for today---------\")\n",
    "    print(\"U-id       Name\")\n",
    "    #Printing all the Products which we have\n",
    "    for i,j in record.items():\n",
    "        print(i,\"----\",j[\"name\"])\n",
    "    #Asking user for U-id of the product\n",
    "    uid=input(\"Enter the U-id of your product\\t\")\n",
    "    prod =[]\n",
    "    iud=int(uid)\n",
    "    for i in record:\n",
    "        p = i.split(',') #Splits the keys in the dict by commas\n",
    "        prod.append(int(p[0])) #Make a list out of the keys\n",
    "    #Checking if the U-id is present in database\n",
    "    ecount = prod.count(iud)\n",
    "    if ecount > 0:\n",
    "        #If present then print the product details\n",
    "        print(\"\\n***Here is the Product of your U-id \"+uid+\"***\")\n",
    "        for i,j in record[uid].items():\n",
    "            print(i,\":\",j)\n",
    "        #Asking user for required Quantity\n",
    "        quan =int(input(\"\\nEnter how much quantity you want to buy\\t\"))\n",
    "        #If Entered quantity is equal to 0\n",
    "        if quan == 0:\n",
    "            print(\"Invalid Quantity\")\n",
    "        #If valid quantity is entered then print his billing amount\n",
    "        elif quan <= record[uid][\"quantity\"]:\n",
    "            print(\"\\n#*#*#*#*#*#*Generating your Bill*#*#*#*#*#*#\")\n",
    "            print(\"Name of the Product :\",record[uid][\"name\"])\n",
    "            print(\"Price :\", record[uid][\"price\"])\n",
    "            print(\"Quantity required :\",quan)\n",
    "            print(\"Total Billing Amount :\",quan*record[uid]['price'])\n",
    "            dtime = time.ctime() #Gives the present date and time\n",
    "            print(\"Date and Time of purchase :\",dtime)\n",
    "            print(\"#*#*#*#*#*#*#*#*#*#*#*#*#*#*#*#*#*#*#*#*#*#\")\n",
    "            print(\"\\n*******Thank you Please visit again********\")\n",
    "            record[uid][\"quantity\"] = record[uid][\"quantity\"] - quan #Reducing the quantity which user buys from our database\n",
    "        #If entered quantity is greater than we have in our stock\n",
    "        else:\n",
    "            print(\"###Sorry we dont have that much quantity in our stock###\")\n",
    "    #If U-id is not present in the database\n",
    "    else:\n",
    "        print(\"###Entered U-id is not Invalid###\")\n",
    "#If user wants to exit\n",
    "elif ans == 0:\n",
    "    print(\"\\n*******Thank you Please visit again********\")\n",
    "#If user has entered Invalid Choice\n",
    "else:\n",
    "    print(\"###Invaild Choice###\")"
   ]
  },
  {
   "cell_type": "code",
   "execution_count": 25,
   "metadata": {},
   "outputs": [],
   "source": [
    "#Updating our record.json file with the new quantities\n",
    "js = json.dumps(record) #dumps the dict in .json format\n",
    "\n",
    "fd = open(\"record.json\",'w')\n",
    "fd.write(js) #Used for writting in the file\n",
    "fd.close()"
   ]
  },
  {
   "cell_type": "code",
   "execution_count": 26,
   "metadata": {},
   "outputs": [],
   "source": [
    "#Creating and reading the sales.json file for tracking the sales of products\n",
    "fd = open(\"sales.json\",\"r\")\n",
    "sals = fd.read() #used for reading a file\n",
    "fd.close()\n",
    "\n",
    "#Loading the json file to perform Operations in python\n",
    "sale = json.loads(sals)"
   ]
  },
  {
   "cell_type": "code",
   "execution_count": 28,
   "metadata": {},
   "outputs": [],
   "source": [
    "#Updating the sales.json file with the new record after a sale\n",
    "s1 = len(sale) + 1\n",
    "sale[str(s1)] = {\"p_id\":uid,\"p_name\": record[uid][\"name\"],\"quanity\":quan,\"amount\":quan*record[uid]['price'],\"da_time\":dtime}\n",
    "\n",
    "\n",
    "js1 =json.dumps(sale) #dumps the dict in .json format\n",
    "\n",
    "fd = open(\"sales.json\",\"w\")\n",
    "fd.write(js1) #Used for writting in the file\n",
    "fd.close()\n"
   ]
  }
 ],
 "metadata": {
  "kernelspec": {
   "display_name": "Python 3",
   "language": "python",
   "name": "python3"
  },
  "language_info": {
   "codemirror_mode": {
    "name": "ipython",
    "version": 3
   },
   "file_extension": ".py",
   "mimetype": "text/x-python",
   "name": "python",
   "nbconvert_exporter": "python",
   "pygments_lexer": "ipython3",
   "version": "3.8.5"
  }
 },
 "nbformat": 4,
 "nbformat_minor": 4
}
